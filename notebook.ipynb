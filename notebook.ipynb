{
 "cells": [
  {
   "cell_type": "markdown",
   "metadata": {},
   "source": [
    "<p><img src= \"https://www.pngitem.com/pimgs/m/114-1143971_google-play-logo-google-play-logo-transparent-background.png\")></p>\n",
    "\n",
    "Description and so on bla bla\n",
    "\n",
    "#### 1. Importing and inspecting the data"
   ]
  },
  {
   "cell_type": "code",
   "execution_count": 13,
   "metadata": {},
   "outputs": [
    {
     "name": "stdout",
     "output_type": "stream",
     "text": [
      "                                                    App            Category  \\\n",
      "103                                Beauty Selfie Camera              BEAUTY   \n",
      "8686                      DP & Status for Whatsapp 2018     PERSONALIZATION   \n",
      "2949  Camera360: Selfie Photo Editor with Funny Sticker         PHOTOGRAPHY   \n",
      "331         Best Wallpapers Backgrounds(100,000+ 4K HD)              COMICS   \n",
      "3176            Skiplagged — Exclusive Flights & Hotels    TRAVEL_AND_LOCAL   \n",
      "4196                                          H-Connect  HEALTH_AND_FITNESS   \n",
      "21            Boys Photo Editor - Six Pack & Men's Suit      ART_AND_DESIGN   \n",
      "\n",
      "      Rating  Reviews                Size      Installs  Type Price  \\\n",
      "103      4.2     2225                 52M      500,000+  Free     0   \n",
      "8686     4.1      293                3.4M      100,000+  Free     0   \n",
      "2949     4.3  4865132                 51M  100,000,000+  Free     0   \n",
      "331      4.7     3596                7.8M       10,000+  Free     0   \n",
      "3176     4.6    10035  Varies with device    1,000,000+  Free     0   \n",
      "4196     4.0       50                 15M        5,000+  Free     0   \n",
      "21       4.1      654                 12M      100,000+  Free     0   \n",
      "\n",
      "     Content Rating            Genres       Last Updated         Current Ver  \\\n",
      "103        Everyone            Beauty  February 28, 2018                 1.6   \n",
      "8686       Everyone   Personalization     August 3, 2018                 1.4   \n",
      "2949       Everyone       Photography     August 6, 2018               9.3.1   \n",
      "331            Teen            Comics      June 16, 2018                1.01   \n",
      "3176       Everyone    Travel & Local        May 4, 2018  Varies with device   \n",
      "4196       Everyone  Health & Fitness       July 3, 2018                2.14   \n",
      "21         Everyone      Art & Design     March 20, 2018                 1.1   \n",
      "\n",
      "             Android Ver  \n",
      "103           4.1 and up  \n",
      "8686        4.0.3 and up  \n",
      "2949        4.0.3 and up  \n",
      "331         4.0.3 and up  \n",
      "3176  Varies with device  \n",
      "4196          4.4 and up  \n",
      "21          4.0.3 and up  \n",
      "(10841, 13)\n"
     ]
    }
   ],
   "source": [
    "import pandas as pd\n",
    "\n",
    "apps1 = pd.read_csv('googleplaystore.csv')\n",
    "print(apps1.sample(7))\n",
    "print(apps1.shape)"
   ]
  },
  {
   "cell_type": "markdown",
   "metadata": {},
   "source": [
    "quick desc about irregularities"
   ]
  },
  {
   "cell_type": "code",
   "execution_count": 18,
   "metadata": {},
   "outputs": [
    {
     "name": "stdout",
     "output_type": "stream",
     "text": [
      "Number of duplicated apps: 1181\n"
     ]
    }
   ],
   "source": [
    "before_drop_dup = sum(apps1.App.duplicated())\n",
    "apps1[apps1.App.duplicated() == True].describe()\n",
    "print('Number of duplicated apps:', before_drop_dup)"
   ]
  },
  {
   "cell_type": "code",
   "execution_count": 16,
   "metadata": {},
   "outputs": [
    {
     "name": "stdout",
     "output_type": "stream",
     "text": [
      "Number of unique apps: 9660\n"
     ]
    }
   ],
   "source": [
    "apps = apps1.drop_duplicates('App')\n",
    "print('Number of unique apps:', len(apps))"
   ]
  },
  {
   "cell_type": "markdown",
   "metadata": {},
   "source": [
    "#### 2. Data cleaning"
   ]
  },
  {
   "cell_type": "code",
   "execution_count": null,
   "metadata": {},
   "outputs": [],
   "source": [
    "import numpy as np\n"
   ]
  }
 ],
 "metadata": {
  "interpreter": {
   "hash": "65c45682600b822032a055cbf04f0dc5abe5e3c026f7225f43ce560cd84c5728"
  },
  "kernelspec": {
   "display_name": "Python 3.10.4 64-bit",
   "language": "python",
   "name": "python3"
  },
  "language_info": {
   "codemirror_mode": {
    "name": "ipython",
    "version": 3
   },
   "file_extension": ".py",
   "mimetype": "text/x-python",
   "name": "python",
   "nbconvert_exporter": "python",
   "pygments_lexer": "ipython3",
   "version": "3.10.4"
  },
  "orig_nbformat": 4
 },
 "nbformat": 4,
 "nbformat_minor": 2
}
