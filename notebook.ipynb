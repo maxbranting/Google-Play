{
 "cells": [
  {
   "cell_type": "markdown",
   "metadata": {},
   "source": [
    "<p><img src= \"https://www.pngitem.com/pimgs/m/114-1143971_google-play-logo-google-play-logo-transparent-background.png\")></p>\n",
    "\n",
    "Small project concentrated on apps available on Google Play.<br>\n",
    "The data was downloaded from [Kaggle](https://www.kaggle.com/datasets/lava18/google-play-store-apps).\n",
    "\n",
    "#### 1. Importing and inspecting the data"
   ]
  },
  {
   "cell_type": "code",
   "execution_count": 2,
   "metadata": {},
   "outputs": [
    {
     "name": "stdout",
     "output_type": "stream",
     "text": [
      "                                 App          Category  Rating Reviews  \\\n",
      "8745                   World Webcams           WEATHER     3.7    7896   \n",
      "4290            K keyboard - Myanmar             TOOLS     4.8    1955   \n",
      "4790                      PLAYBULB X         LIFESTYLE     2.9    2160   \n",
      "6924  Best Western e-Concierge Hotel  TRAVEL_AND_LOCAL     4.0      41   \n",
      "8052                      CX_WiFiUFO            SPORTS     3.7     818   \n",
      "8328               Guide to Nikon Df       PHOTOGRAPHY     NaN       1   \n",
      "3359                        Launcher   PERSONALIZATION     4.5  102923   \n",
      "\n",
      "                    Size    Installs  Type   Price Content Rating  \\\n",
      "8745  Varies with device  1,000,000+  Free       0       Everyone   \n",
      "4290                 14M    100,000+  Free       0       Everyone   \n",
      "4790                 15M    100,000+  Free       0       Everyone   \n",
      "6924                 23M     10,000+  Free       0       Everyone   \n",
      "8052                5.3M    100,000+  Free       0       Everyone   \n",
      "8328                663k         10+  Paid  $29.99       Everyone   \n",
      "3359                 18M  1,000,000+  Free       0       Everyone   \n",
      "\n",
      "               Genres       Last Updated Current Ver         Android Ver  \n",
      "8745          Weather  November 25, 2013         1.6  Varies with device  \n",
      "4290            Tools     March 17, 2018       1.0.8          4.1 and up  \n",
      "4790        Lifestyle      June 25, 2018       1.6.5          4.3 and up  \n",
      "6924   Travel & Local       June 4, 2018       2.8.1          5.0 and up  \n",
      "8052           Sports       June 8, 2016      4.4_23          4.0 and up  \n",
      "8328      Photography  February 18, 2014       2.0.0        4.0.3 and up  \n",
      "3359  Personalization      July 10, 2018       2.1.2          5.0 and up  \n",
      "(10841, 13)\n"
     ]
    }
   ],
   "source": [
    "import pandas as pd\n",
    "import numpy as np\n",
    "import matplotlib as plt\n",
    "\n",
    "apps1 = pd.read_csv('googleplaystore.csv')\n",
    "print(apps1.sample(7))\n",
    "print(apps1.shape)"
   ]
  },
  {
   "cell_type": "markdown",
   "metadata": {},
   "source": [
    "Data in columns \"Installs\", \"Price\" and \"Size\" need to be cleaned. First two have special characters, the last one has letters \"M\" and \"k\" which presumably indicate size in Megabytes and kilobytes."
   ]
  },
  {
   "cell_type": "code",
   "execution_count": 3,
   "metadata": {},
   "outputs": [
    {
     "name": "stdout",
     "output_type": "stream",
     "text": [
      "Number of duplicated apps: 1181\n"
     ]
    }
   ],
   "source": [
    "before_drop_dup = sum(apps1.App.duplicated())\n",
    "#print(apps1[apps1.App.duplicated() == True].describe())\n",
    "print('Number of duplicated apps:', before_drop_dup)"
   ]
  },
  {
   "cell_type": "code",
   "execution_count": 4,
   "metadata": {},
   "outputs": [
    {
     "name": "stdout",
     "output_type": "stream",
     "text": [
      "Number of unique apps: 9660\n"
     ]
    }
   ],
   "source": [
    "apps = apps1.drop_duplicates('App')\n",
    "print('Number of unique apps:', len(apps))"
   ]
  },
  {
   "cell_type": "markdown",
   "metadata": {},
   "source": [
    "#### 2. Data cleaning\n",
    "As seen previously, columns \"Installs\" and \"Price\" include characters that make it unable to change their type. We need to get rid of any obstacles that prevent us from changing the types. Column \"Size\" also needs to be cleaned<br>\n"
   ]
  },
  {
   "cell_type": "code",
   "execution_count": 5,
   "metadata": {},
   "outputs": [
    {
     "name": "stdout",
     "output_type": "stream",
     "text": [
      "['10,000+' '500,000+' '5,000,000+' '50,000,000+' '100,000+' '50,000+'\n",
      " '1,000,000+' '10,000,000+' '5,000+' '100,000,000+' '1,000,000,000+'\n",
      " '1,000+' '500,000,000+' '50+' '100+' '500+' '10+' '1+' '5+' '0+' '0'\n",
      " 'Free']\n",
      "['0' '$4.99' '$3.99' '$6.99' '$1.49' '$2.99' '$7.99' '$5.99' '$3.49'\n",
      " '$1.99' '$9.99' '$7.49' '$0.99' '$9.00' '$5.49' '$10.00' '$24.99'\n",
      " '$11.99' '$79.99' '$16.99' '$14.99' '$1.00' '$29.99' '$12.99' '$2.49'\n",
      " '$10.99' '$1.50' '$19.99' '$15.99' '$33.99' '$74.99' '$39.99' '$3.95'\n",
      " '$4.49' '$1.70' '$8.99' '$2.00' '$3.88' '$25.99' '$399.99' '$17.99'\n",
      " '$400.00' '$3.02' '$1.76' '$4.84' '$4.77' '$1.61' '$2.50' '$1.59' '$6.49'\n",
      " '$1.29' '$5.00' '$13.99' '$299.99' '$379.99' '$37.99' '$18.99' '$389.99'\n",
      " '$19.90' '$8.49' '$1.75' '$14.00' '$4.85' '$46.99' '$109.99' '$154.99'\n",
      " '$3.08' '$2.59' '$4.80' '$1.96' '$19.40' '$3.90' '$4.59' '$15.46' '$3.04'\n",
      " '$4.29' '$2.60' '$3.28' '$4.60' '$28.99' '$2.95' '$2.90' '$1.97'\n",
      " '$200.00' '$89.99' '$2.56' '$30.99' '$3.61' '$394.99' '$1.26' 'Everyone'\n",
      " '$1.20' '$1.04']\n",
      "['19M' '14M' '8.7M' '25M' '2.8M' '5.6M' '29M' '33M' '3.1M' '28M' '12M'\n",
      " '20M' '21M' '37M' '2.7M' '5.5M' '17M' '39M' '31M' '4.2M' '7.0M' '23M'\n",
      " '6.0M' '6.1M' '4.6M' '9.2M' '5.2M' '11M' '24M' 'Varies with device'\n",
      " '9.4M' '15M' '10M' '1.2M' '26M' '8.0M' '7.9M' '56M' '57M' '35M' '54M'\n",
      " '201k' '3.6M' '5.7M' '8.6M' '2.4M' '27M' '2.5M' '16M' '3.4M' '8.9M'\n",
      " '3.9M' '2.9M' '38M' '32M' '5.4M' '18M' '1.1M' '2.2M' '4.5M' '9.8M' '52M'\n",
      " '9.0M' '6.7M' '30M' '2.6M' '7.1M' '3.7M' '22M' '7.4M' '6.4M' '3.2M'\n",
      " '8.2M' '9.9M' '4.9M' '9.5M' '5.0M' '5.9M' '13M' '73M' '6.8M' '3.5M'\n",
      " '4.0M' '2.3M' '7.2M' '2.1M' '42M' '7.3M' '9.1M' '55M' '23k' '6.5M' '1.5M'\n",
      " '7.5M' '51M' '41M' '48M' '8.5M' '46M' '8.3M' '4.3M' '4.7M' '3.3M' '40M'\n",
      " '7.8M' '8.8M' '6.6M' '5.1M' '61M' '66M' '79k' '8.4M' '118k' '44M' '695k'\n",
      " '1.6M' '6.2M' '18k' '53M' '1.4M' '3.0M' '5.8M' '3.8M' '9.6M' '45M' '63M'\n",
      " '49M' '77M' '4.4M' '4.8M' '70M' '6.9M' '9.3M' '10.0M' '8.1M' '36M' '84M'\n",
      " '97M' '2.0M' '1.9M' '1.8M' '5.3M' '47M' '556k' '526k' '76M' '7.6M' '59M'\n",
      " '9.7M' '78M' '72M' '43M' '7.7M' '6.3M' '334k' '34M' '93M' '65M' '79M'\n",
      " '100M' '58M' '50M' '68M' '64M' '67M' '60M' '94M' '232k' '99M' '624k'\n",
      " '95M' '8.5k' '41k' '292k' '11k' '80M' '1.7M' '74M' '62M' '69M' '75M'\n",
      " '98M' '85M' '82M' '96M' '87M' '71M' '86M' '91M' '81M' '92M' '83M' '88M'\n",
      " '704k' '862k' '899k' '378k' '266k' '375k' '1.3M' '975k' '980k' '4.1M'\n",
      " '89M' '696k' '544k' '525k' '920k' '779k' '853k' '720k' '713k' '772k'\n",
      " '318k' '58k' '241k' '196k' '857k' '51k' '953k' '865k' '251k' '930k'\n",
      " '540k' '313k' '746k' '203k' '26k' '314k' '239k' '371k' '220k' '730k'\n",
      " '756k' '91k' '293k' '17k' '74k' '14k' '317k' '78k' '924k' '902k' '818k'\n",
      " '81k' '939k' '169k' '45k' '475k' '965k' '90M' '545k' '61k' '283k' '655k'\n",
      " '714k' '93k' '872k' '121k' '322k' '1.0M' '976k' '172k' '238k' '549k'\n",
      " '206k' '954k' '444k' '717k' '210k' '609k' '308k' '705k' '306k' '904k'\n",
      " '473k' '175k' '350k' '383k' '454k' '421k' '70k' '812k' '442k' '842k'\n",
      " '417k' '412k' '459k' '478k' '335k' '782k' '721k' '430k' '429k' '192k'\n",
      " '200k' '460k' '728k' '496k' '816k' '414k' '506k' '887k' '613k' '243k'\n",
      " '569k' '778k' '683k' '592k' '319k' '186k' '840k' '647k' '191k' '373k'\n",
      " '437k' '598k' '716k' '585k' '982k' '222k' '219k' '55k' '948k' '323k'\n",
      " '691k' '511k' '951k' '963k' '25k' '554k' '351k' '27k' '82k' '208k' '913k'\n",
      " '514k' '551k' '29k' '103k' '898k' '743k' '116k' '153k' '209k' '353k'\n",
      " '499k' '173k' '597k' '809k' '122k' '411k' '400k' '801k' '787k' '237k'\n",
      " '50k' '643k' '986k' '97k' '516k' '837k' '780k' '961k' '269k' '20k' '498k'\n",
      " '600k' '749k' '642k' '881k' '72k' '656k' '601k' '221k' '228k' '108k'\n",
      " '940k' '176k' '33k' '663k' '34k' '942k' '259k' '164k' '458k' '245k'\n",
      " '629k' '28k' '288k' '775k' '785k' '636k' '916k' '994k' '309k' '485k'\n",
      " '914k' '903k' '608k' '500k' '54k' '562k' '847k' '957k' '688k' '811k'\n",
      " '270k' '48k' '329k' '523k' '921k' '874k' '981k' '784k' '280k' '24k'\n",
      " '518k' '754k' '892k' '154k' '860k' '364k' '387k' '626k' '161k' '879k'\n",
      " '39k' '970k' '170k' '141k' '160k' '144k' '143k' '190k' '376k' '193k'\n",
      " '246k' '73k' '658k' '992k' '253k' '420k' '404k' '1,000+' '470k' '226k'\n",
      " '240k' '89k' '234k' '257k' '861k' '467k' '157k' '44k' '676k' '67k' '552k'\n",
      " '885k' '1020k' '582k' '619k']\n"
     ]
    }
   ],
   "source": [
    "print(apps['Installs'].unique())\n",
    "print(apps['Price'].unique())\n",
    "print(apps['Size'].unique())"
   ]
  },
  {
   "cell_type": "markdown",
   "metadata": {},
   "source": [
    "Above we can se that we need to delete all special signs such as dollar signs and plusses, additionally two words need to be deleted, in case of Price the word \"Everyone\" will be changed to NaN since it doesnt indicate wether it means free or something else, the same will be applied with word Free in \"Installs\". The size column shows size of application both in Megabytes (digits ending with M) and kilobytes (ones with k), this also needs to be taken care of."
   ]
  },
  {
   "cell_type": "code",
   "execution_count": 8,
   "metadata": {},
   "outputs": [
    {
     "name": "stdout",
     "output_type": "stream",
     "text": [
      "Varies with device    1227\n",
      "11M                    182\n",
      "12M                    181\n",
      "13M                    177\n",
      "14M                    177\n",
      "                      ... \n",
      "430k                     1\n",
      "429k                     1\n",
      "200k                     1\n",
      "460k                     1\n",
      "619k                     1\n",
      "Name: Size, Length: 462, dtype: int64\n"
     ]
    }
   ],
   "source": [
    "print(apps['Size'].value_counts())"
   ]
  },
  {
   "cell_type": "markdown",
   "metadata": {},
   "source": [
    "Additionaly size also has the \"Varies with device\" value. It is also noticable 1,2k records making it not possible bo delete this value, at the same time it would be usefull to do some analysis with app sizes. To get around that we will have two dataframes, one full without sizes and one cut down with sizes."
   ]
  },
  {
   "cell_type": "code",
   "execution_count": 5,
   "metadata": {},
   "outputs": [
    {
     "name": "stdout",
     "output_type": "stream",
     "text": [
      "<bound method DataFrame.info of                                                      App             Category  \\\n",
      "0         Photo Editor & Candy Camera & Grid & ScrapBook       ART_AND_DESIGN   \n",
      "1                                    Coloring book moana       ART_AND_DESIGN   \n",
      "2      U Launcher Lite – FREE Live Cool Themes, Hide ...       ART_AND_DESIGN   \n",
      "3                                  Sketch - Draw & Paint       ART_AND_DESIGN   \n",
      "4                  Pixel Draw - Number Art Coloring Book       ART_AND_DESIGN   \n",
      "...                                                  ...                  ...   \n",
      "10836                                   Sya9a Maroc - FR               FAMILY   \n",
      "10837                   Fr. Mike Schmitz Audio Teachings               FAMILY   \n",
      "10838                             Parkinson Exercices FR              MEDICAL   \n",
      "10839                      The SCP Foundation DB fr nn5n  BOOKS_AND_REFERENCE   \n",
      "10840      iHoroscope - 2018 Daily Horoscope & Astrology            LIFESTYLE   \n",
      "\n",
      "       Rating Reviews  Size  Installs  Type Price Content Rating  \\\n",
      "0         4.1     159   19M     10000  Free     0       Everyone   \n",
      "1         3.9     967   14M    500000  Free     0       Everyone   \n",
      "2         4.7   87510  8.7M   5000000  Free     0       Everyone   \n",
      "3         4.5  215644   25M  50000000  Free     0           Teen   \n",
      "4         4.3     967  2.8M    100000  Free     0       Everyone   \n",
      "...       ...     ...   ...       ...   ...   ...            ...   \n",
      "10836     4.5      38   53M      5000  Free     0       Everyone   \n",
      "10837     5.0       4  3.6M       100  Free     0       Everyone   \n",
      "10838     NaN       3  9.5M      1000  Free     0       Everyone   \n",
      "10839     4.5     114   NaN      1000  Free     0     Mature 17+   \n",
      "10840     4.5  398307   19M  10000000  Free     0       Everyone   \n",
      "\n",
      "                          Genres      Last Updated         Current Ver  \\\n",
      "0                   Art & Design   January 7, 2018               1.0.0   \n",
      "1      Art & Design;Pretend Play  January 15, 2018               2.0.0   \n",
      "2                   Art & Design    August 1, 2018               1.2.4   \n",
      "3                   Art & Design      June 8, 2018  Varies with device   \n",
      "4        Art & Design;Creativity     June 20, 2018                 1.1   \n",
      "...                          ...               ...                 ...   \n",
      "10836                  Education     July 25, 2017                1.48   \n",
      "10837                  Education      July 6, 2018                 1.0   \n",
      "10838                    Medical  January 20, 2017                 1.0   \n",
      "10839          Books & Reference  January 19, 2015  Varies with device   \n",
      "10840                  Lifestyle     July 25, 2018  Varies with device   \n",
      "\n",
      "              Android Ver  \n",
      "0            4.0.3 and up  \n",
      "1            4.0.3 and up  \n",
      "2            4.0.3 and up  \n",
      "3              4.2 and up  \n",
      "4              4.4 and up  \n",
      "...                   ...  \n",
      "10836          4.1 and up  \n",
      "10837          4.1 and up  \n",
      "10838          2.2 and up  \n",
      "10839  Varies with device  \n",
      "10840  Varies with device  \n",
      "\n",
      "[9660 rows x 13 columns]>\n"
     ]
    },
    {
     "name": "stderr",
     "output_type": "stream",
     "text": [
      "C:\\Users\\maxim\\AppData\\Local\\Temp\\ipykernel_21472\\3380076716.py:7: SettingWithCopyWarning: \n",
      "A value is trying to be set on a copy of a slice from a DataFrame.\n",
      "Try using .loc[row_indexer,col_indexer] = value instead\n",
      "\n",
      "See the caveats in the documentation: https://pandas.pydata.org/pandas-docs/stable/user_guide/indexing.html#returning-a-view-versus-a-copy\n",
      "  apps[col] = apps[col].apply(lambda x: x.replace(char, ''))\n",
      "C:\\Users\\maxim\\AppData\\Local\\Temp\\ipykernel_21472\\3380076716.py:12: SettingWithCopyWarning: \n",
      "A value is trying to be set on a copy of a slice from a DataFrame.\n",
      "Try using .loc[row_indexer,col_indexer] = value instead\n",
      "\n",
      "See the caveats in the documentation: https://pandas.pydata.org/pandas-docs/stable/user_guide/indexing.html#returning-a-view-versus-a-copy\n",
      "  apps['Installs'] = apps['Installs'].replace('Free', np.nan)\n",
      "C:\\Users\\maxim\\AppData\\Local\\Temp\\ipykernel_21472\\3380076716.py:14: SettingWithCopyWarning: \n",
      "A value is trying to be set on a copy of a slice from a DataFrame.\n",
      "Try using .loc[row_indexer,col_indexer] = value instead\n",
      "\n",
      "See the caveats in the documentation: https://pandas.pydata.org/pandas-docs/stable/user_guide/indexing.html#returning-a-view-versus-a-copy\n",
      "  apps['Price'] = apps['Price'].replace('Everyone', np.nan)\n",
      "C:\\Users\\maxim\\AppData\\Local\\Temp\\ipykernel_21472\\3380076716.py:16: SettingWithCopyWarning: \n",
      "A value is trying to be set on a copy of a slice from a DataFrame.\n",
      "Try using .loc[row_indexer,col_indexer] = value instead\n",
      "\n",
      "See the caveats in the documentation: https://pandas.pydata.org/pandas-docs/stable/user_guide/indexing.html#returning-a-view-versus-a-copy\n",
      "  apps['Size'] = apps['Size'].replace('Varies with device', np.nan)\n"
     ]
    }
   ],
   "source": [
    "#Below we are removing all characters and the word \"free\" from the price column\n",
    "char_remove = ['$', ',', '+']\n",
    "col_cl = ['Installs', 'Price', 'Size']\n",
    "\n",
    "for col in col_cl:\n",
    "    for char in char_remove:\n",
    "        apps[col] = apps[col].apply(lambda x: x.replace(char, ''))\n",
    "\n",
    "#To later convert price to float type we need to fill empty cells with 0's or NaN's\n",
    "#apps = apps.replace('', np.nan, regex= True)\n",
    "#Changing \"Free\" to nan\n",
    "apps['Installs'] = apps['Installs'].replace('Free', np.nan)\n",
    "#Changing word \"everyone\" to nan\n",
    "apps['Price'] = apps['Price'].replace('Everyone', np.nan)\n",
    "#Changing \"Varies with device\" to nan\n",
    "apps['Size'] = apps['Size'].replace('Varies with device', np.nan)\n",
    "\n",
    "print(apps.info)"
   ]
  },
  {
   "cell_type": "code",
   "execution_count": 6,
   "metadata": {},
   "outputs": [
    {
     "name": "stdout",
     "output_type": "stream",
     "text": [
      "['10000' '500000' '5000000' '50000000' '100000' '50000' '1000000'\n",
      " '10000000' '5000' '100000000' '1000000000' '1000' '500000000' '50' '100'\n",
      " '500' '10' '1' '5' '0' nan]\n",
      "['0' '4.99' '3.99' '6.99' '1.49' '2.99' '7.99' '5.99' '3.49' '1.99' '9.99'\n",
      " '7.49' '0.99' '9.00' '5.49' '10.00' '24.99' '11.99' '79.99' '16.99'\n",
      " '14.99' '1.00' '29.99' '12.99' '2.49' '10.99' '1.50' '19.99' '15.99'\n",
      " '33.99' '74.99' '39.99' '3.95' '4.49' '1.70' '8.99' '2.00' '3.88' '25.99'\n",
      " '399.99' '17.99' '400.00' '3.02' '1.76' '4.84' '4.77' '1.61' '2.50'\n",
      " '1.59' '6.49' '1.29' '5.00' '13.99' '299.99' '379.99' '37.99' '18.99'\n",
      " '389.99' '19.90' '8.49' '1.75' '14.00' '4.85' '46.99' '109.99' '154.99'\n",
      " '3.08' '2.59' '4.80' '1.96' '19.40' '3.90' '4.59' '15.46' '3.04' '4.29'\n",
      " '2.60' '3.28' '4.60' '28.99' '2.95' '2.90' '1.97' '200.00' '89.99' '2.56'\n",
      " '30.99' '3.61' '394.99' '1.26' nan '1.20' '1.04']\n",
      "['19M' '14M' '8.7M' '25M' '2.8M' '5.6M' '29M' '33M' '3.1M' '28M' '12M'\n",
      " '20M' '21M' '37M' '2.7M' '5.5M' '17M' '39M' '31M' '4.2M' '7.0M' '23M'\n",
      " '6.0M' '6.1M' '4.6M' '9.2M' '5.2M' '11M' '24M' nan '9.4M' '15M' '10M'\n",
      " '1.2M' '26M' '8.0M' '7.9M' '56M' '57M' '35M' '54M' '201k' '3.6M' '5.7M'\n",
      " '8.6M' '2.4M' '27M' '2.5M' '16M' '3.4M' '8.9M' '3.9M' '2.9M' '38M' '32M'\n",
      " '5.4M' '18M' '1.1M' '2.2M' '4.5M' '9.8M' '52M' '9.0M' '6.7M' '30M' '2.6M'\n",
      " '7.1M' '3.7M' '22M' '7.4M' '6.4M' '3.2M' '8.2M' '9.9M' '4.9M' '9.5M'\n",
      " '5.0M' '5.9M' '13M' '73M' '6.8M' '3.5M' '4.0M' '2.3M' '7.2M' '2.1M' '42M'\n",
      " '7.3M' '9.1M' '55M' '23k' '6.5M' '1.5M' '7.5M' '51M' '41M' '48M' '8.5M'\n",
      " '46M' '8.3M' '4.3M' '4.7M' '3.3M' '40M' '7.8M' '8.8M' '6.6M' '5.1M' '61M'\n",
      " '66M' '79k' '8.4M' '118k' '44M' '695k' '1.6M' '6.2M' '18k' '53M' '1.4M'\n",
      " '3.0M' '5.8M' '3.8M' '9.6M' '45M' '63M' '49M' '77M' '4.4M' '4.8M' '70M'\n",
      " '6.9M' '9.3M' '10.0M' '8.1M' '36M' '84M' '97M' '2.0M' '1.9M' '1.8M'\n",
      " '5.3M' '47M' '556k' '526k' '76M' '7.6M' '59M' '9.7M' '78M' '72M' '43M'\n",
      " '7.7M' '6.3M' '334k' '34M' '93M' '65M' '79M' '100M' '58M' '50M' '68M'\n",
      " '64M' '67M' '60M' '94M' '232k' '99M' '624k' '95M' '8.5k' '41k' '292k'\n",
      " '11k' '80M' '1.7M' '74M' '62M' '69M' '75M' '98M' '85M' '82M' '96M' '87M'\n",
      " '71M' '86M' '91M' '81M' '92M' '83M' '88M' '704k' '862k' '899k' '378k'\n",
      " '266k' '375k' '1.3M' '975k' '980k' '4.1M' '89M' '696k' '544k' '525k'\n",
      " '920k' '779k' '853k' '720k' '713k' '772k' '318k' '58k' '241k' '196k'\n",
      " '857k' '51k' '953k' '865k' '251k' '930k' '540k' '313k' '746k' '203k'\n",
      " '26k' '314k' '239k' '371k' '220k' '730k' '756k' '91k' '293k' '17k' '74k'\n",
      " '14k' '317k' '78k' '924k' '902k' '818k' '81k' '939k' '169k' '45k' '475k'\n",
      " '965k' '90M' '545k' '61k' '283k' '655k' '714k' '93k' '872k' '121k' '322k'\n",
      " '1.0M' '976k' '172k' '238k' '549k' '206k' '954k' '444k' '717k' '210k'\n",
      " '609k' '308k' '705k' '306k' '904k' '473k' '175k' '350k' '383k' '454k'\n",
      " '421k' '70k' '812k' '442k' '842k' '417k' '412k' '459k' '478k' '335k'\n",
      " '782k' '721k' '430k' '429k' '192k' '200k' '460k' '728k' '496k' '816k'\n",
      " '414k' '506k' '887k' '613k' '243k' '569k' '778k' '683k' '592k' '319k'\n",
      " '186k' '840k' '647k' '191k' '373k' '437k' '598k' '716k' '585k' '982k'\n",
      " '222k' '219k' '55k' '948k' '323k' '691k' '511k' '951k' '963k' '25k'\n",
      " '554k' '351k' '27k' '82k' '208k' '913k' '514k' '551k' '29k' '103k' '898k'\n",
      " '743k' '116k' '153k' '209k' '353k' '499k' '173k' '597k' '809k' '122k'\n",
      " '411k' '400k' '801k' '787k' '237k' '50k' '643k' '986k' '97k' '516k'\n",
      " '837k' '780k' '961k' '269k' '20k' '498k' '600k' '749k' '642k' '881k'\n",
      " '72k' '656k' '601k' '221k' '228k' '108k' '940k' '176k' '33k' '663k' '34k'\n",
      " '942k' '259k' '164k' '458k' '245k' '629k' '28k' '288k' '775k' '785k'\n",
      " '636k' '916k' '994k' '309k' '485k' '914k' '903k' '608k' '500k' '54k'\n",
      " '562k' '847k' '957k' '688k' '811k' '270k' '48k' '329k' '523k' '921k'\n",
      " '874k' '981k' '784k' '280k' '24k' '518k' '754k' '892k' '154k' '860k'\n",
      " '364k' '387k' '626k' '161k' '879k' '39k' '970k' '170k' '141k' '160k'\n",
      " '144k' '143k' '190k' '376k' '193k' '246k' '73k' '658k' '992k' '253k'\n",
      " '420k' '404k' '1000' '470k' '226k' '240k' '89k' '234k' '257k' '861k'\n",
      " '467k' '157k' '44k' '676k' '67k' '552k' '885k' '1020k' '582k' '619k']\n"
     ]
    }
   ],
   "source": [
    "print(apps['Installs'].unique())\n",
    "print(apps['Price'].unique())\n",
    "print(apps['Size'].unique())"
   ]
  },
  {
   "cell_type": "markdown",
   "metadata": {},
   "source": [
    "Now we need to fix the Size column. For that we will turn the column into a new dataframe, then extract the last letter which stands for Megabyte or kilobyte into second column. After that we delete the letters from Size colum and turn int to float type. Lastly using the second collumn we divide by 1000 the values that have k next to them to unify the table and show all sizes in Megabytes."
   ]
  },
  {
   "cell_type": "code",
   "execution_count": 19,
   "metadata": {},
   "outputs": [
    {
     "name": "stdout",
     "output_type": "stream",
     "text": [
      "   Size Measure\n",
      "0  19.0       M\n",
      "1  14.0       M\n",
      "2   8.7       M\n",
      "3  25.0       M\n",
      "4   2.8       M\n",
      "The unique values are: ['M' 'n' 'k' '0']\n",
      "(9660, 2)\n"
     ]
    }
   ],
   "source": [
    "#Here need to figure out how to delete M and k in size and also divide all the ones with k's by 1000 so that all are in megabytes\n",
    "\n",
    "apps_siz = pd.DataFrame(apps['Size'])\n",
    "apps_siz['Measure'] = [str(x).strip()[-1] for x in apps['Size']]\n",
    "apps_siz['Size'] = apps_siz['Size'].str[:-1].astype('float')\n",
    "print(apps_siz.head())\n",
    "print('The unique values are:', apps_siz['Measure'].unique())\n",
    "print(apps_siz.shape)"
   ]
  },
  {
   "cell_type": "markdown",
   "metadata": {},
   "source": [
    "As can be seen first part is done but we have spotted another issue. Apart from M and k we also have n and a 0, zero comes originaly from one 1000 value. In this circumstance we have two main options: <br>\n",
    "* If the number of occurences is not big we could just delete all the ones that have anything else than M or k. <br>\n",
    "* With the 1k value we could  assume that its in kilobytes, and \"n\" ending occurences that its megabytes, maybe misstyped it."
   ]
  },
  {
   "cell_type": "code",
   "execution_count": 17,
   "metadata": {},
   "outputs": [
    {
     "name": "stdout",
     "output_type": "stream",
     "text": [
      "         Size\n",
      "Measure      \n",
      "0           1\n",
      "M        8118\n",
      "k         314\n",
      "n           0\n",
      "---------------\n",
      "M    8118\n",
      "n    1227\n",
      "k     314\n",
      "0       1\n",
      "Name: Measure, dtype: int64\n"
     ]
    }
   ],
   "source": [
    "print(apps_siz.groupby('Measure').count())\n",
    "print('---------------')\n",
    "print(apps_siz['Measure'].value_counts())"
   ]
  },
  {
   "cell_type": "code",
   "execution_count": 24,
   "metadata": {},
   "outputs": [
    {
     "data": {
      "text/html": [
       "<div>\n",
       "<style scoped>\n",
       "    .dataframe tbody tr th:only-of-type {\n",
       "        vertical-align: middle;\n",
       "    }\n",
       "\n",
       "    .dataframe tbody tr th {\n",
       "        vertical-align: top;\n",
       "    }\n",
       "\n",
       "    .dataframe thead th {\n",
       "        text-align: right;\n",
       "    }\n",
       "</style>\n",
       "<table border=\"1\" class=\"dataframe\">\n",
       "  <thead>\n",
       "    <tr style=\"text-align: right;\">\n",
       "      <th></th>\n",
       "      <th>Size</th>\n",
       "      <th>Measure</th>\n",
       "    </tr>\n",
       "  </thead>\n",
       "  <tbody>\n",
       "    <tr>\n",
       "      <th>37</th>\n",
       "      <td>NaN</td>\n",
       "      <td>n</td>\n",
       "    </tr>\n",
       "    <tr>\n",
       "      <th>42</th>\n",
       "      <td>NaN</td>\n",
       "      <td>n</td>\n",
       "    </tr>\n",
       "    <tr>\n",
       "      <th>52</th>\n",
       "      <td>NaN</td>\n",
       "      <td>n</td>\n",
       "    </tr>\n",
       "    <tr>\n",
       "      <th>67</th>\n",
       "      <td>NaN</td>\n",
       "      <td>n</td>\n",
       "    </tr>\n",
       "    <tr>\n",
       "      <th>68</th>\n",
       "      <td>NaN</td>\n",
       "      <td>n</td>\n",
       "    </tr>\n",
       "    <tr>\n",
       "      <th>...</th>\n",
       "      <td>...</td>\n",
       "      <td>...</td>\n",
       "    </tr>\n",
       "    <tr>\n",
       "      <th>10713</th>\n",
       "      <td>NaN</td>\n",
       "      <td>n</td>\n",
       "    </tr>\n",
       "    <tr>\n",
       "      <th>10725</th>\n",
       "      <td>NaN</td>\n",
       "      <td>n</td>\n",
       "    </tr>\n",
       "    <tr>\n",
       "      <th>10765</th>\n",
       "      <td>NaN</td>\n",
       "      <td>n</td>\n",
       "    </tr>\n",
       "    <tr>\n",
       "      <th>10826</th>\n",
       "      <td>NaN</td>\n",
       "      <td>n</td>\n",
       "    </tr>\n",
       "    <tr>\n",
       "      <th>10839</th>\n",
       "      <td>NaN</td>\n",
       "      <td>n</td>\n",
       "    </tr>\n",
       "  </tbody>\n",
       "</table>\n",
       "<p>1227 rows × 2 columns</p>\n",
       "</div>"
      ],
      "text/plain": [
       "       Size Measure\n",
       "37      NaN       n\n",
       "42      NaN       n\n",
       "52      NaN       n\n",
       "67      NaN       n\n",
       "68      NaN       n\n",
       "...     ...     ...\n",
       "10713   NaN       n\n",
       "10725   NaN       n\n",
       "10765   NaN       n\n",
       "10826   NaN       n\n",
       "10839   NaN       n\n",
       "\n",
       "[1227 rows x 2 columns]"
      ]
     },
     "execution_count": 24,
     "metadata": {},
     "output_type": "execute_result"
    }
   ],
   "source": [
    "check = apps_siz[apps_siz['Measure']=='n']\n",
    "check"
   ]
  },
  {
   "cell_type": "markdown",
   "metadata": {},
   "source": [
    "As we can see the results above are different. At the first stage of cleaning the data we have replaced the size \"Varies with device\" to nan. The count method excludes missing data when counting. The value_counts counts everything, this is also why the n appeared (we pulled last character of the cells). <br> <br>1 thousand records is too much to drop, but at the same time it would be interesting to explore the characteristics of apps given their size. We will create two dataframes, one with the size specified where we drop the nan's and one full without the size column.\n"
   ]
  },
  {
   "cell_type": "code",
   "execution_count": 9,
   "metadata": {},
   "outputs": [],
   "source": [
    "#apps_siz2 = np.where(apps_siz['Measure']=='k', apps_siz['Size'], apps_siz['Size']/1000)\n",
    "#apps_siz2\n",
    "#print(apps_siz['Measure'].unique())"
   ]
  },
  {
   "cell_type": "code",
   "execution_count": 10,
   "metadata": {},
   "outputs": [],
   "source": [
    "#apps['Size'] = apps['Size'].astype('float')\n",
    "#apps['Installs'] = apps['Installs'].astype('float')\n",
    "#apps['Price'] = apps['Price'].astype('float')\n",
    "\n",
    "#apps.dtypes"
   ]
  },
  {
   "cell_type": "code",
   "execution_count": null,
   "metadata": {},
   "outputs": [],
   "source": [
    "apps\n",
    "apps_w_size = "
   ]
  },
  {
   "cell_type": "code",
   "execution_count": 11,
   "metadata": {},
   "outputs": [],
   "source": [
    "#plotting numbers by category"
   ]
  },
  {
   "cell_type": "code",
   "execution_count": null,
   "metadata": {},
   "outputs": [],
   "source": []
  }
 ],
 "metadata": {
  "interpreter": {
   "hash": "65c45682600b822032a055cbf04f0dc5abe5e3c026f7225f43ce560cd84c5728"
  },
  "kernelspec": {
   "display_name": "Python 3.10.4 64-bit",
   "language": "python",
   "name": "python3"
  },
  "language_info": {
   "codemirror_mode": {
    "name": "ipython",
    "version": 3
   },
   "file_extension": ".py",
   "mimetype": "text/x-python",
   "name": "python",
   "nbconvert_exporter": "python",
   "pygments_lexer": "ipython3",
   "version": "3.10.4"
  },
  "orig_nbformat": 4
 },
 "nbformat": 4,
 "nbformat_minor": 2
}
