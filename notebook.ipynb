{
 "cells": [
  {
   "cell_type": "code",
   "execution_count": 1,
   "metadata": {},
   "outputs": [
    {
     "name": "stdout",
     "output_type": "stream",
     "text": [
      "      Unnamed: 0          id  \\\n",
      "3636        4429   981031050   \n",
      "4828        6244  1062168249   \n",
      "4654        5964  1055397979   \n",
      "5630        7629  1091000556   \n",
      "3754        4600   991626372   \n",
      "4259        5339  1033685038   \n",
      "3916        4838  1006850128   \n",
      "\n",
      "                                             track_name  size_bytes currency  \\\n",
      "3636                                              霸王卧龙传    75983872      USD   \n",
      "4828                           Dead Zone: Zombie Crisis    87025664      USD   \n",
      "4654           Tap My Katamari - Endless Cosmic Clicker   228460544      USD   \n",
      "5630                                        Growing Pug    54922240      USD   \n",
      "3754  Snapshot Cam - Draw on Pictures & Add Text to ...   109117440      USD   \n",
      "4259  Myths of the World: Black Rose - A Hidden Obje...   796377088      USD   \n",
      "3916  Ice Queen Prom Salon: Princess Makeover Girls ...    73683968      USD   \n",
      "\n",
      "      price  rating_count_tot  rating_count_ver  user_rating  user_rating_ver  \\\n",
      "3636   0.99                 1                 1          5.0              5.0   \n",
      "4828   0.00              1632                28          4.5              4.5   \n",
      "4654   0.00              2114                63          4.5              4.0   \n",
      "5630   0.99              1194               455          4.0              4.0   \n",
      "3754   2.99                14                 1          5.0              5.0   \n",
      "4259   2.99                20                20          4.0              4.0   \n",
      "3916   1.99                11                 1          3.5              1.0   \n",
      "\n",
      "           ver cont_rating    prime_genre  sup_devices.num  ipadSc_urls.num  \\\n",
      "3636       1.4          9+          Games               38                3   \n",
      "4828    1.2.25         12+          Games               38                5   \n",
      "4654       3.0          4+          Games               37                5   \n",
      "5630      1.03          4+          Games               38                5   \n",
      "3754       1.4          4+  Photo & Video               37                5   \n",
      "4259     1.0.0          9+          Games               38                0   \n",
      "3916  9999.1.6          4+          Games               40                5   \n",
      "\n",
      "      lang.num  vpp_lic  \n",
      "3636         1        1  \n",
      "4828        11        1  \n",
      "4654         2        1  \n",
      "5630         1        1  \n",
      "3754        31        1  \n",
      "4259         4        1  \n",
      "3916         1        1  \n"
     ]
    }
   ],
   "source": [
    "import pandas as pd\n",
    "\n",
    "apps = pd.read_csv('AppleStore.csv')\n",
    "print(apps.sample(7))"
   ]
  },
  {
   "cell_type": "code",
   "execution_count": 2,
   "metadata": {},
   "outputs": [
    {
     "data": {
      "text/plain": [
       "2"
      ]
     },
     "execution_count": 2,
     "metadata": {},
     "output_type": "execute_result"
    }
   ],
   "source": [
    "sum(apps.track_name.duplicated())"
   ]
  },
  {
   "cell_type": "code",
   "execution_count": 4,
   "metadata": {},
   "outputs": [
    {
     "data": {
      "text/html": [
       "<div>\n",
       "<style scoped>\n",
       "    .dataframe tbody tr th:only-of-type {\n",
       "        vertical-align: middle;\n",
       "    }\n",
       "\n",
       "    .dataframe tbody tr th {\n",
       "        vertical-align: top;\n",
       "    }\n",
       "\n",
       "    .dataframe thead th {\n",
       "        text-align: right;\n",
       "    }\n",
       "</style>\n",
       "<table border=\"1\" class=\"dataframe\">\n",
       "  <thead>\n",
       "    <tr style=\"text-align: right;\">\n",
       "      <th></th>\n",
       "      <th>Unnamed: 0</th>\n",
       "      <th>id</th>\n",
       "      <th>track_name</th>\n",
       "      <th>size_bytes</th>\n",
       "      <th>currency</th>\n",
       "      <th>price</th>\n",
       "      <th>rating_count_tot</th>\n",
       "      <th>rating_count_ver</th>\n",
       "      <th>user_rating</th>\n",
       "      <th>user_rating_ver</th>\n",
       "      <th>ver</th>\n",
       "      <th>cont_rating</th>\n",
       "      <th>prime_genre</th>\n",
       "      <th>sup_devices.num</th>\n",
       "      <th>ipadSc_urls.num</th>\n",
       "      <th>lang.num</th>\n",
       "      <th>vpp_lic</th>\n",
       "    </tr>\n",
       "  </thead>\n",
       "  <tbody>\n",
       "    <tr>\n",
       "      <th>5603</th>\n",
       "      <td>7579</td>\n",
       "      <td>1089824278</td>\n",
       "      <td>VR Roller Coaster</td>\n",
       "      <td>240964608</td>\n",
       "      <td>USD</td>\n",
       "      <td>0.0</td>\n",
       "      <td>67</td>\n",
       "      <td>44</td>\n",
       "      <td>3.5</td>\n",
       "      <td>4.0</td>\n",
       "      <td>0.81</td>\n",
       "      <td>4+</td>\n",
       "      <td>Games</td>\n",
       "      <td>38</td>\n",
       "      <td>0</td>\n",
       "      <td>1</td>\n",
       "      <td>1</td>\n",
       "    </tr>\n",
       "    <tr>\n",
       "      <th>7128</th>\n",
       "      <td>10885</td>\n",
       "      <td>1178454060</td>\n",
       "      <td>Mannequin Challenge</td>\n",
       "      <td>59572224</td>\n",
       "      <td>USD</td>\n",
       "      <td>0.0</td>\n",
       "      <td>105</td>\n",
       "      <td>58</td>\n",
       "      <td>4.0</td>\n",
       "      <td>4.5</td>\n",
       "      <td>1.0.1</td>\n",
       "      <td>4+</td>\n",
       "      <td>Games</td>\n",
       "      <td>38</td>\n",
       "      <td>5</td>\n",
       "      <td>1</td>\n",
       "      <td>1</td>\n",
       "    </tr>\n",
       "  </tbody>\n",
       "</table>\n",
       "</div>"
      ],
      "text/plain": [
       "      Unnamed: 0          id           track_name  size_bytes currency  price  \\\n",
       "5603        7579  1089824278    VR Roller Coaster   240964608      USD    0.0   \n",
       "7128       10885  1178454060  Mannequin Challenge    59572224      USD    0.0   \n",
       "\n",
       "      rating_count_tot  rating_count_ver  user_rating  user_rating_ver    ver  \\\n",
       "5603                67                44          3.5              4.0   0.81   \n",
       "7128               105                58          4.0              4.5  1.0.1   \n",
       "\n",
       "     cont_rating prime_genre  sup_devices.num  ipadSc_urls.num  lang.num  \\\n",
       "5603          4+       Games               38                0         1   \n",
       "7128          4+       Games               38                5         1   \n",
       "\n",
       "      vpp_lic  \n",
       "5603        1  \n",
       "7128        1  "
      ]
     },
     "execution_count": 4,
     "metadata": {},
     "output_type": "execute_result"
    }
   ],
   "source": [
    "apps[apps.track_name.duplicated() == True]#.describe()"
   ]
  },
  {
   "cell_type": "code",
   "execution_count": null,
   "metadata": {},
   "outputs": [],
   "source": []
  }
 ],
 "metadata": {
  "interpreter": {
   "hash": "65c45682600b822032a055cbf04f0dc5abe5e3c026f7225f43ce560cd84c5728"
  },
  "kernelspec": {
   "display_name": "Python 3.10.4 64-bit",
   "language": "python",
   "name": "python3"
  },
  "language_info": {
   "codemirror_mode": {
    "name": "ipython",
    "version": 3
   },
   "file_extension": ".py",
   "mimetype": "text/x-python",
   "name": "python",
   "nbconvert_exporter": "python",
   "pygments_lexer": "ipython3",
   "version": "3.10.4"
  },
  "orig_nbformat": 4
 },
 "nbformat": 4,
 "nbformat_minor": 2
}
