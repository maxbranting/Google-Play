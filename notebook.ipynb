{
 "cells": [
  {
   "cell_type": "markdown",
   "metadata": {},
   "source": [
    "<p align = \"center\"><img src= \"https://www.pngitem.com/pimgs/m/114-1143971_google-play-logo-google-play-logo-transparent-background.png\")></p>\n",
    "\n",
    "Small project concentrated on apps available on Google Play.<br>\n",
    "The data was downloaded from [Kaggle](https://www.kaggle.com/datasets/lava18/google-play-store-apps).\n",
    "\n",
    "#### 1. Importing and inspecting the data"
   ]
  },
  {
   "cell_type": "code",
   "execution_count": 1,
   "metadata": {},
   "outputs": [
    {
     "name": "stdout",
     "output_type": "stream",
     "text": [
      "                                                    App            Category  \\\n",
      "5352                                          I AM RICH              FAMILY   \n",
      "7445                                        CJ Infinity      FOOD_AND_DRINK   \n",
      "1000  Imgur: Find funny GIFs, memes & watch viral vi...       ENTERTAINMENT   \n",
      "7266                                          Thrive CF  HEALTH_AND_FITNESS   \n",
      "9714                                           EP Music              FAMILY   \n",
      "9634                               HTC Sense Input - EN               TOOLS   \n",
      "9586                                    EM Launcher Pro     PERSONALIZATION   \n",
      "\n",
      "      Rating Reviews  Size     Installs  Type  Price Content Rating  \\\n",
      "5352     3.9    1455  1.1M      10,000+  Free      0       Everyone   \n",
      "7445     NaN       0   16M          10+  Free      0       Everyone   \n",
      "1000     4.3  160164   12M  10,000,000+  Free      0           Teen   \n",
      "7266     2.2       6  8.0M         100+  Free      0       Everyone   \n",
      "9714     NaN       0   11M          10+  Free      0       Everyone   \n",
      "9634     4.3   24175  8.5M   5,000,000+  Free      0       Everyone   \n",
      "9586     4.2      35   24k       1,000+  Paid  $3.99       Everyone   \n",
      "\n",
      "                Genres      Last Updated Current Ver Android Ver  \n",
      "5352     Entertainment  October 11, 2017         1.0  2.3 and up  \n",
      "7445      Food & Drink   January 5, 2018         1.1  4.1 and up  \n",
      "1000     Entertainment    August 1, 2018  4.2.0.8447  5.0 and up  \n",
      "7266  Health & Fitness   January 5, 2018       1.0.1  4.3 and up  \n",
      "9714     Entertainment     July 26, 2017         1.0  4.1 and up  \n",
      "9634             Tools  October 30, 2015  1.0.612931  5.0 and up  \n",
      "9586   Personalization     April 2, 2016         1.0  4.1 and up  \n",
      "(10841, 13)\n"
     ]
    }
   ],
   "source": [
    "import pandas as pd\n",
    "import numpy as np\n",
    "import matplotlib.pyplot as plt\n",
    "import plotly\n",
    "import plotly.graph_objs as go\n",
    "\n",
    "apps1 = pd.read_csv('googleplaystore.csv')\n",
    "print(apps1.sample(7))\n",
    "print(apps1.shape)"
   ]
  },
  {
   "cell_type": "code",
   "execution_count": 2,
   "metadata": {},
   "outputs": [
    {
     "data": {
      "text/plain": [
       "App                object\n",
       "Category           object\n",
       "Rating            float64\n",
       "Reviews            object\n",
       "Size               object\n",
       "Installs           object\n",
       "Type               object\n",
       "Price              object\n",
       "Content Rating     object\n",
       "Genres             object\n",
       "Last Updated       object\n",
       "Current Ver        object\n",
       "Android Ver        object\n",
       "dtype: object"
      ]
     },
     "execution_count": 2,
     "metadata": {},
     "output_type": "execute_result"
    }
   ],
   "source": [
    "apps1.dtypes"
   ]
  },
  {
   "cell_type": "code",
   "execution_count": 3,
   "metadata": {},
   "outputs": [
    {
     "data": {
      "text/plain": [
       "10821                  2.5M\n",
       "10822                  3.1M\n",
       "10823                  2.9M\n",
       "10824                   82M\n",
       "10825                  7.7M\n",
       "10826    Varies with device\n",
       "10827                   13M\n",
       "10828                   13M\n",
       "10829                  7.4M\n",
       "10830                  2.3M\n",
       "10831                  9.8M\n",
       "10832                  582k\n",
       "10833                  619k\n",
       "10834                  2.6M\n",
       "10835                  9.6M\n",
       "10836                   53M\n",
       "10837                  3.6M\n",
       "10838                  9.5M\n",
       "10839    Varies with device\n",
       "10840                   19M\n",
       "Name: Size, dtype: object"
      ]
     },
     "execution_count": 3,
     "metadata": {},
     "output_type": "execute_result"
    }
   ],
   "source": [
    "apps1['Size'].tail(20)"
   ]
  },
  {
   "cell_type": "markdown",
   "metadata": {},
   "source": [
    "Data in columns \"Installs\", \"Price\" and \"Size\" need to be cleaned. First two have special characters, the last one has letters \"M\" and \"k\" which presumably indicate size in Megabytes and kilobytes. <br> Their type will need to be changed to float, same goes for the Reviews column."
   ]
  },
  {
   "cell_type": "code",
   "execution_count": 4,
   "metadata": {},
   "outputs": [
    {
     "name": "stdout",
     "output_type": "stream",
     "text": [
      "Number of duplicated apps: 1181\n"
     ]
    }
   ],
   "source": [
    "before_drop_dup = sum(apps1.App.duplicated())\n",
    "#print(apps1[apps1.App.duplicated() == True].describe())\n",
    "print('Number of duplicated apps:', before_drop_dup)"
   ]
  },
  {
   "cell_type": "code",
   "execution_count": 5,
   "metadata": {},
   "outputs": [
    {
     "name": "stdout",
     "output_type": "stream",
     "text": [
      "Number of unique apps: 9660\n"
     ]
    }
   ],
   "source": [
    "apps = apps1.drop_duplicates('App')\n",
    "print('Number of unique apps:', len(apps))"
   ]
  },
  {
   "cell_type": "markdown",
   "metadata": {},
   "source": [
    "#### 2. Data cleaning\n",
    "As seen previously, columns \"Installs\" and \"Price\" include characters that make it unable to change their type. We need to get rid of any obstacles that prevent us from changing the types. Column \"Size\" also needs to be cleaned<br>\n"
   ]
  },
  {
   "cell_type": "code",
   "execution_count": 6,
   "metadata": {},
   "outputs": [
    {
     "name": "stdout",
     "output_type": "stream",
     "text": [
      "['10,000+' '500,000+' '5,000,000+' '50,000,000+' '100,000+' '50,000+'\n",
      " '1,000,000+' '10,000,000+' '5,000+' '100,000,000+' '1,000,000,000+'\n",
      " '1,000+' '500,000,000+' '50+' '100+' '500+' '10+' '1+' '5+' '0+' '0'\n",
      " 'Free']\n",
      "['0' '$4.99' '$3.99' '$6.99' '$1.49' '$2.99' '$7.99' '$5.99' '$3.49'\n",
      " '$1.99' '$9.99' '$7.49' '$0.99' '$9.00' '$5.49' '$10.00' '$24.99'\n",
      " '$11.99' '$79.99' '$16.99' '$14.99' '$1.00' '$29.99' '$12.99' '$2.49'\n",
      " '$10.99' '$1.50' '$19.99' '$15.99' '$33.99' '$74.99' '$39.99' '$3.95'\n",
      " '$4.49' '$1.70' '$8.99' '$2.00' '$3.88' '$25.99' '$399.99' '$17.99'\n",
      " '$400.00' '$3.02' '$1.76' '$4.84' '$4.77' '$1.61' '$2.50' '$1.59' '$6.49'\n",
      " '$1.29' '$5.00' '$13.99' '$299.99' '$379.99' '$37.99' '$18.99' '$389.99'\n",
      " '$19.90' '$8.49' '$1.75' '$14.00' '$4.85' '$46.99' '$109.99' '$154.99'\n",
      " '$3.08' '$2.59' '$4.80' '$1.96' '$19.40' '$3.90' '$4.59' '$15.46' '$3.04'\n",
      " '$4.29' '$2.60' '$3.28' '$4.60' '$28.99' '$2.95' '$2.90' '$1.97'\n",
      " '$200.00' '$89.99' '$2.56' '$30.99' '$3.61' '$394.99' '$1.26' 'Everyone'\n",
      " '$1.20' '$1.04']\n",
      "['19M' '14M' '8.7M' '25M' '2.8M' '5.6M' '29M' '33M' '3.1M' '28M' '12M'\n",
      " '20M' '21M' '37M' '2.7M' '5.5M' '17M' '39M' '31M' '4.2M' '7.0M' '23M'\n",
      " '6.0M' '6.1M' '4.6M' '9.2M' '5.2M' '11M' '24M' 'Varies with device'\n",
      " '9.4M' '15M' '10M' '1.2M' '26M' '8.0M' '7.9M' '56M' '57M' '35M' '54M'\n",
      " '201k' '3.6M' '5.7M' '8.6M' '2.4M' '27M' '2.5M' '16M' '3.4M' '8.9M'\n",
      " '3.9M' '2.9M' '38M' '32M' '5.4M' '18M' '1.1M' '2.2M' '4.5M' '9.8M' '52M'\n",
      " '9.0M' '6.7M' '30M' '2.6M' '7.1M' '3.7M' '22M' '7.4M' '6.4M' '3.2M'\n",
      " '8.2M' '9.9M' '4.9M' '9.5M' '5.0M' '5.9M' '13M' '73M' '6.8M' '3.5M'\n",
      " '4.0M' '2.3M' '7.2M' '2.1M' '42M' '7.3M' '9.1M' '55M' '23k' '6.5M' '1.5M'\n",
      " '7.5M' '51M' '41M' '48M' '8.5M' '46M' '8.3M' '4.3M' '4.7M' '3.3M' '40M'\n",
      " '7.8M' '8.8M' '6.6M' '5.1M' '61M' '66M' '79k' '8.4M' '118k' '44M' '695k'\n",
      " '1.6M' '6.2M' '18k' '53M' '1.4M' '3.0M' '5.8M' '3.8M' '9.6M' '45M' '63M'\n",
      " '49M' '77M' '4.4M' '4.8M' '70M' '6.9M' '9.3M' '10.0M' '8.1M' '36M' '84M'\n",
      " '97M' '2.0M' '1.9M' '1.8M' '5.3M' '47M' '556k' '526k' '76M' '7.6M' '59M'\n",
      " '9.7M' '78M' '72M' '43M' '7.7M' '6.3M' '334k' '34M' '93M' '65M' '79M'\n",
      " '100M' '58M' '50M' '68M' '64M' '67M' '60M' '94M' '232k' '99M' '624k'\n",
      " '95M' '8.5k' '41k' '292k' '11k' '80M' '1.7M' '74M' '62M' '69M' '75M'\n",
      " '98M' '85M' '82M' '96M' '87M' '71M' '86M' '91M' '81M' '92M' '83M' '88M'\n",
      " '704k' '862k' '899k' '378k' '266k' '375k' '1.3M' '975k' '980k' '4.1M'\n",
      " '89M' '696k' '544k' '525k' '920k' '779k' '853k' '720k' '713k' '772k'\n",
      " '318k' '58k' '241k' '196k' '857k' '51k' '953k' '865k' '251k' '930k'\n",
      " '540k' '313k' '746k' '203k' '26k' '314k' '239k' '371k' '220k' '730k'\n",
      " '756k' '91k' '293k' '17k' '74k' '14k' '317k' '78k' '924k' '902k' '818k'\n",
      " '81k' '939k' '169k' '45k' '475k' '965k' '90M' '545k' '61k' '283k' '655k'\n",
      " '714k' '93k' '872k' '121k' '322k' '1.0M' '976k' '172k' '238k' '549k'\n",
      " '206k' '954k' '444k' '717k' '210k' '609k' '308k' '705k' '306k' '904k'\n",
      " '473k' '175k' '350k' '383k' '454k' '421k' '70k' '812k' '442k' '842k'\n",
      " '417k' '412k' '459k' '478k' '335k' '782k' '721k' '430k' '429k' '192k'\n",
      " '200k' '460k' '728k' '496k' '816k' '414k' '506k' '887k' '613k' '243k'\n",
      " '569k' '778k' '683k' '592k' '319k' '186k' '840k' '647k' '191k' '373k'\n",
      " '437k' '598k' '716k' '585k' '982k' '222k' '219k' '55k' '948k' '323k'\n",
      " '691k' '511k' '951k' '963k' '25k' '554k' '351k' '27k' '82k' '208k' '913k'\n",
      " '514k' '551k' '29k' '103k' '898k' '743k' '116k' '153k' '209k' '353k'\n",
      " '499k' '173k' '597k' '809k' '122k' '411k' '400k' '801k' '787k' '237k'\n",
      " '50k' '643k' '986k' '97k' '516k' '837k' '780k' '961k' '269k' '20k' '498k'\n",
      " '600k' '749k' '642k' '881k' '72k' '656k' '601k' '221k' '228k' '108k'\n",
      " '940k' '176k' '33k' '663k' '34k' '942k' '259k' '164k' '458k' '245k'\n",
      " '629k' '28k' '288k' '775k' '785k' '636k' '916k' '994k' '309k' '485k'\n",
      " '914k' '903k' '608k' '500k' '54k' '562k' '847k' '957k' '688k' '811k'\n",
      " '270k' '48k' '329k' '523k' '921k' '874k' '981k' '784k' '280k' '24k'\n",
      " '518k' '754k' '892k' '154k' '860k' '364k' '387k' '626k' '161k' '879k'\n",
      " '39k' '970k' '170k' '141k' '160k' '144k' '143k' '190k' '376k' '193k'\n",
      " '246k' '73k' '658k' '992k' '253k' '420k' '404k' '1,000+' '470k' '226k'\n",
      " '240k' '89k' '234k' '257k' '861k' '467k' '157k' '44k' '676k' '67k' '552k'\n",
      " '885k' '1020k' '582k' '619k']\n"
     ]
    }
   ],
   "source": [
    "print(apps['Installs'].unique())\n",
    "print(apps['Price'].unique())\n",
    "print(apps['Size'].unique())"
   ]
  },
  {
   "cell_type": "markdown",
   "metadata": {},
   "source": [
    "Above we can se that we need to delete all special signs such as dollar signs and plusses. The size column shows size of application both in Megabytes (digits ending with M) and kilobytes (ones with k), this also needs to be taken care of."
   ]
  },
  {
   "cell_type": "code",
   "execution_count": 7,
   "metadata": {},
   "outputs": [
    {
     "name": "stdout",
     "output_type": "stream",
     "text": [
      "Varies with device    1227\n",
      "11M                    182\n",
      "12M                    181\n",
      "13M                    177\n",
      "14M                    177\n",
      "                      ... \n",
      "430k                     1\n",
      "429k                     1\n",
      "200k                     1\n",
      "460k                     1\n",
      "619k                     1\n",
      "Name: Size, Length: 462, dtype: int64\n"
     ]
    }
   ],
   "source": [
    "print(apps['Size'].value_counts())"
   ]
  },
  {
   "cell_type": "markdown",
   "metadata": {},
   "source": [
    "While changing the type of column reviews an error popped up \"Cant convert '3.0M' to float\". Upon inspection it can be visible that one row has all the data is in wrong columns, since this is a one time occurence  we will just delete this record."
   ]
  },
  {
   "cell_type": "code",
   "execution_count": 8,
   "metadata": {},
   "outputs": [
    {
     "data": {
      "text/html": [
       "<div>\n",
       "<style scoped>\n",
       "    .dataframe tbody tr th:only-of-type {\n",
       "        vertical-align: middle;\n",
       "    }\n",
       "\n",
       "    .dataframe tbody tr th {\n",
       "        vertical-align: top;\n",
       "    }\n",
       "\n",
       "    .dataframe thead th {\n",
       "        text-align: right;\n",
       "    }\n",
       "</style>\n",
       "<table border=\"1\" class=\"dataframe\">\n",
       "  <thead>\n",
       "    <tr style=\"text-align: right;\">\n",
       "      <th></th>\n",
       "      <th>App</th>\n",
       "      <th>Category</th>\n",
       "      <th>Rating</th>\n",
       "      <th>Reviews</th>\n",
       "      <th>Size</th>\n",
       "      <th>Installs</th>\n",
       "      <th>Type</th>\n",
       "      <th>Price</th>\n",
       "      <th>Content Rating</th>\n",
       "      <th>Genres</th>\n",
       "      <th>Last Updated</th>\n",
       "      <th>Current Ver</th>\n",
       "      <th>Android Ver</th>\n",
       "    </tr>\n",
       "  </thead>\n",
       "  <tbody>\n",
       "    <tr>\n",
       "      <th>10472</th>\n",
       "      <td>Life Made WI-Fi Touchscreen Photo Frame</td>\n",
       "      <td>1.9</td>\n",
       "      <td>19.0</td>\n",
       "      <td>3.0M</td>\n",
       "      <td>1,000+</td>\n",
       "      <td>Free</td>\n",
       "      <td>0</td>\n",
       "      <td>Everyone</td>\n",
       "      <td>NaN</td>\n",
       "      <td>February 11, 2018</td>\n",
       "      <td>1.0.19</td>\n",
       "      <td>4.0 and up</td>\n",
       "      <td>NaN</td>\n",
       "    </tr>\n",
       "  </tbody>\n",
       "</table>\n",
       "</div>"
      ],
      "text/plain": [
       "                                           App Category  Rating Reviews  \\\n",
       "10472  Life Made WI-Fi Touchscreen Photo Frame      1.9    19.0    3.0M   \n",
       "\n",
       "         Size Installs Type     Price Content Rating             Genres  \\\n",
       "10472  1,000+     Free    0  Everyone            NaN  February 11, 2018   \n",
       "\n",
       "      Last Updated Current Ver Android Ver  \n",
       "10472       1.0.19  4.0 and up         NaN  "
      ]
     },
     "execution_count": 8,
     "metadata": {},
     "output_type": "execute_result"
    }
   ],
   "source": [
    "apps.loc[apps1['Reviews']=='3.0M']"
   ]
  },
  {
   "cell_type": "code",
   "execution_count": 9,
   "metadata": {},
   "outputs": [],
   "source": [
    "# dropping by index value above\n",
    "apps = apps.drop(10472)"
   ]
  },
  {
   "cell_type": "markdown",
   "metadata": {},
   "source": [
    "We will replace all the special characters and change the data types. <br> <br>\n",
    "Size column also has the \"Varies with device\" value. We will change is to nan's"
   ]
  },
  {
   "cell_type": "code",
   "execution_count": 10,
   "metadata": {},
   "outputs": [
    {
     "data": {
      "text/html": [
       "<div>\n",
       "<style scoped>\n",
       "    .dataframe tbody tr th:only-of-type {\n",
       "        vertical-align: middle;\n",
       "    }\n",
       "\n",
       "    .dataframe tbody tr th {\n",
       "        vertical-align: top;\n",
       "    }\n",
       "\n",
       "    .dataframe thead th {\n",
       "        text-align: right;\n",
       "    }\n",
       "</style>\n",
       "<table border=\"1\" class=\"dataframe\">\n",
       "  <thead>\n",
       "    <tr style=\"text-align: right;\">\n",
       "      <th></th>\n",
       "      <th>App</th>\n",
       "      <th>Category</th>\n",
       "      <th>Rating</th>\n",
       "      <th>Reviews</th>\n",
       "      <th>Size</th>\n",
       "      <th>Installs</th>\n",
       "      <th>Type</th>\n",
       "      <th>Price</th>\n",
       "      <th>Content Rating</th>\n",
       "      <th>Genres</th>\n",
       "      <th>Last Updated</th>\n",
       "      <th>Current Ver</th>\n",
       "      <th>Android Ver</th>\n",
       "    </tr>\n",
       "  </thead>\n",
       "  <tbody>\n",
       "    <tr>\n",
       "      <th>0</th>\n",
       "      <td>Photo Editor &amp; Candy Camera &amp; Grid &amp; ScrapBook</td>\n",
       "      <td>ART_AND_DESIGN</td>\n",
       "      <td>4.1</td>\n",
       "      <td>159.0</td>\n",
       "      <td>19M</td>\n",
       "      <td>10000.0</td>\n",
       "      <td>Free</td>\n",
       "      <td>0.0</td>\n",
       "      <td>Everyone</td>\n",
       "      <td>Art &amp; Design</td>\n",
       "      <td>January 7, 2018</td>\n",
       "      <td>1.0.0</td>\n",
       "      <td>4.0.3 and up</td>\n",
       "    </tr>\n",
       "    <tr>\n",
       "      <th>1</th>\n",
       "      <td>Coloring book moana</td>\n",
       "      <td>ART_AND_DESIGN</td>\n",
       "      <td>3.9</td>\n",
       "      <td>967.0</td>\n",
       "      <td>14M</td>\n",
       "      <td>500000.0</td>\n",
       "      <td>Free</td>\n",
       "      <td>0.0</td>\n",
       "      <td>Everyone</td>\n",
       "      <td>Art &amp; Design;Pretend Play</td>\n",
       "      <td>January 15, 2018</td>\n",
       "      <td>2.0.0</td>\n",
       "      <td>4.0.3 and up</td>\n",
       "    </tr>\n",
       "  </tbody>\n",
       "</table>\n",
       "</div>"
      ],
      "text/plain": [
       "                                              App        Category  Rating  \\\n",
       "0  Photo Editor & Candy Camera & Grid & ScrapBook  ART_AND_DESIGN     4.1   \n",
       "1                             Coloring book moana  ART_AND_DESIGN     3.9   \n",
       "\n",
       "   Reviews Size  Installs  Type  Price Content Rating  \\\n",
       "0    159.0  19M   10000.0  Free    0.0       Everyone   \n",
       "1    967.0  14M  500000.0  Free    0.0       Everyone   \n",
       "\n",
       "                      Genres      Last Updated Current Ver   Android Ver  \n",
       "0               Art & Design   January 7, 2018       1.0.0  4.0.3 and up  \n",
       "1  Art & Design;Pretend Play  January 15, 2018       2.0.0  4.0.3 and up  "
      ]
     },
     "execution_count": 10,
     "metadata": {},
     "output_type": "execute_result"
    }
   ],
   "source": [
    "#Below we are removing all characters and the word \"free\" from the price column\n",
    "char_remove = ['$', ',', '+']\n",
    "col_cl = ['Installs', 'Price', 'Size']\n",
    "\n",
    "for col in col_cl:\n",
    "    for char in char_remove:\n",
    "        apps[col] = apps[col].apply(lambda x: x.replace(char, ''))\n",
    "\n",
    "#Changing \"Varies with device\" to nan\n",
    "apps['Size'] = apps['Size'].replace('Varies with device', np.nan)\n",
    "\n",
    "#changing type of columns that are already cleaned\n",
    "apps['Installs'] = apps['Installs'].astype('float')\n",
    "apps['Price'] = apps['Price'].astype('float')\n",
    "apps['Reviews'] = apps['Reviews'].astype('float')\n",
    "\n",
    "apps.head(2)"
   ]
  },
  {
   "cell_type": "markdown",
   "metadata": {},
   "source": [
    "Now we need to fix the Size column. For that we will extract the last letter which stands for Megabyte or kilobyte into a new column. After that we will delete the lats character from Size colum (only if the measure column is \"k\" or \"M\") and turn int to float type. Lastly using the Measure column we divide by 1000 the values that have k next to them, this will unify the table and show all sizes in Megabytes."
   ]
  },
  {
   "cell_type": "code",
   "execution_count": 11,
   "metadata": {},
   "outputs": [
    {
     "name": "stdout",
     "output_type": "stream",
     "text": [
      "                                                 App        Category  Rating  \\\n",
      "0     Photo Editor & Candy Camera & Grid & ScrapBook  ART_AND_DESIGN     4.1   \n",
      "1                                Coloring book moana  ART_AND_DESIGN     3.9   \n",
      "2  U Launcher Lite – FREE Live Cool Themes, Hide ...  ART_AND_DESIGN     4.7   \n",
      "3                              Sketch - Draw & Paint  ART_AND_DESIGN     4.5   \n",
      "4              Pixel Draw - Number Art Coloring Book  ART_AND_DESIGN     4.3   \n",
      "\n",
      "    Reviews  Size    Installs  Type  Price Content Rating  \\\n",
      "0     159.0  19.0     10000.0  Free    0.0       Everyone   \n",
      "1     967.0  14.0    500000.0  Free    0.0       Everyone   \n",
      "2   87510.0   8.7   5000000.0  Free    0.0       Everyone   \n",
      "3  215644.0  25.0  50000000.0  Free    0.0           Teen   \n",
      "4     967.0   2.8    100000.0  Free    0.0       Everyone   \n",
      "\n",
      "                      Genres      Last Updated         Current Ver  \\\n",
      "0               Art & Design   January 7, 2018               1.0.0   \n",
      "1  Art & Design;Pretend Play  January 15, 2018               2.0.0   \n",
      "2               Art & Design    August 1, 2018               1.2.4   \n",
      "3               Art & Design      June 8, 2018  Varies with device   \n",
      "4    Art & Design;Creativity     June 20, 2018                 1.1   \n",
      "\n",
      "    Android Ver Measure  \n",
      "0  4.0.3 and up       M  \n",
      "1  4.0.3 and up       M  \n",
      "2  4.0.3 and up       M  \n",
      "3    4.2 and up       M  \n",
      "4    4.4 and up       M  \n",
      "The unique values are: ['M' 'n' 'k']\n",
      "The shape of dataframe is: (9659, 14)\n"
     ]
    }
   ],
   "source": [
    "#Here need to figure out how to delete M and k in size and also divide all the ones with k's by 1000 so that all are in megabytes\n",
    "apps['Measure'] = [str(x).strip()[-1] for x in apps['Size']]\n",
    "apps['Size'] = np.where(apps['Measure']== 'k', apps['Size'].str[:-1], apps['Size'])\n",
    "apps['Size'] = np.where(apps['Measure']== 'M', apps['Size'].str[:-1], apps['Size'])\n",
    "apps['Size'] = apps['Size'].astype('float')\n",
    "\n",
    "print(apps.head())\n",
    "print('The unique values are:', apps['Measure'].unique())\n",
    "print('The shape of dataframe is:', apps.shape)"
   ]
  },
  {
   "cell_type": "code",
   "execution_count": 12,
   "metadata": {},
   "outputs": [
    {
     "name": "stdout",
     "output_type": "stream",
     "text": [
      "         Size Measure\n",
      "10821   2.500       M\n",
      "10822   3.100       M\n",
      "10823   2.900       M\n",
      "10824  82.000       M\n",
      "10825   7.700       M\n",
      "10826     NaN       n\n",
      "10827  13.000       M\n",
      "10828  13.000       M\n",
      "10829   7.400       M\n",
      "10830   2.300       M\n",
      "10831   9.800       M\n",
      "10832   0.582       k\n",
      "10833   0.619       k\n",
      "10834   2.600       M\n",
      "10835   9.600       M\n",
      "10836  53.000       M\n",
      "10837   3.600       M\n",
      "10838   9.500       M\n",
      "10839     NaN       n\n",
      "10840  19.000       M\n"
     ]
    }
   ],
   "source": [
    "apps['Size'] = np.where(apps['Measure']=='k', apps['Size']/1000, apps['Size'])\n",
    "\n",
    "print(apps[['Size', \"Measure\"]].tail(20))"
   ]
  },
  {
   "cell_type": "code",
   "execution_count": 13,
   "metadata": {},
   "outputs": [
    {
     "data": {
      "text/plain": [
       "App                object\n",
       "Category           object\n",
       "Rating            float64\n",
       "Reviews           float64\n",
       "Size              float64\n",
       "Installs          float64\n",
       "Type               object\n",
       "Price             float64\n",
       "Content Rating     object\n",
       "Genres             object\n",
       "Last Updated       object\n",
       "Current Ver        object\n",
       "Android Ver        object\n",
       "dtype: object"
      ]
     },
     "execution_count": 13,
     "metadata": {},
     "output_type": "execute_result"
    }
   ],
   "source": [
    "del apps['Measure']\n",
    "apps.dtypes"
   ]
  },
  {
   "cell_type": "markdown",
   "metadata": {},
   "source": [
    "#### 3. Exploring by categories"
   ]
  },
  {
   "cell_type": "code",
   "execution_count": 15,
   "metadata": {},
   "outputs": [
    {
     "ename": "NameError",
     "evalue": "name 'num_app_cat' is not defined",
     "output_type": "error",
     "traceback": [
      "\u001b[1;31m---------------------------------------------------------------------------\u001b[0m",
      "\u001b[1;31mNameError\u001b[0m                                 Traceback (most recent call last)",
      "\u001b[1;32mc:\\Users\\maxim\\Documents\\GitHub\\PlayStore-Apps\\notebook.ipynb Cell 22'\u001b[0m in \u001b[0;36m<cell line: 6>\u001b[1;34m()\u001b[0m\n\u001b[0;32m      <a href='vscode-notebook-cell:/c%3A/Users/maxim/Documents/GitHub/PlayStore-Apps/notebook.ipynb#ch0000021?line=1'>2</a>\u001b[0m num_cat\u001b[39m=\u001b[39m \u001b[39mlen\u001b[39m(apps[\u001b[39m'\u001b[39m\u001b[39mCategory\u001b[39m\u001b[39m'\u001b[39m]\u001b[39m.\u001b[39munique())\n\u001b[0;32m      <a href='vscode-notebook-cell:/c%3A/Users/maxim/Documents/GitHub/PlayStore-Apps/notebook.ipynb#ch0000021?line=3'>4</a>\u001b[0m mpop_cat \u001b[39m=\u001b[39m apps[\u001b[39m'\u001b[39m\u001b[39mCategory\u001b[39m\u001b[39m'\u001b[39m]\u001b[39m.\u001b[39mvalue_counts()\u001b[39m.\u001b[39mindex\u001b[39m.\u001b[39mtolist()[\u001b[39m0\u001b[39m]\u001b[39m.\u001b[39mlower()\n\u001b[1;32m----> <a href='vscode-notebook-cell:/c%3A/Users/maxim/Documents/GitHub/PlayStore-Apps/notebook.ipynb#ch0000021?line=5'>6</a>\u001b[0m sorted_num_app_cat \u001b[39m=\u001b[39m num_app_cat\u001b[39m.\u001b[39msort_values(ascending \u001b[39m=\u001b[39m \u001b[39mFalse\u001b[39;00m)\n\u001b[0;32m      <a href='vscode-notebook-cell:/c%3A/Users/maxim/Documents/GitHub/PlayStore-Apps/notebook.ipynb#ch0000021?line=7'>8</a>\u001b[0m apps[\u001b[39m'\u001b[39m\u001b[39mCategory\u001b[39m\u001b[39m'\u001b[39m]\u001b[39m.\u001b[39mvalue_counts()\u001b[39m.\u001b[39mplot(kind \u001b[39m=\u001b[39m \u001b[39m'\u001b[39m\u001b[39mbar\u001b[39m\u001b[39m'\u001b[39m, figsize\u001b[39m=\u001b[39m(\u001b[39m20\u001b[39m,\u001b[39m5\u001b[39m))\n\u001b[0;32m      <a href='vscode-notebook-cell:/c%3A/Users/maxim/Documents/GitHub/PlayStore-Apps/notebook.ipynb#ch0000021?line=8'>9</a>\u001b[0m plt\u001b[39m.\u001b[39mtitle(\u001b[39m'\u001b[39m\u001b[39mThere are \u001b[39m\u001b[39m'\u001b[39m\u001b[39m+\u001b[39m \u001b[39mstr\u001b[39m(num_cat) \u001b[39m+\u001b[39m \u001b[39m'\u001b[39m\u001b[39m unique categories\u001b[39m\u001b[39m'\u001b[39m \u001b[39m+\u001b[39m \u001b[39m'\u001b[39m\u001b[39m with \u001b[39m\u001b[39m'\u001b[39m \u001b[39m+\u001b[39m \u001b[39mstr\u001b[39m(mpop_cat) \u001b[39m+\u001b[39m \u001b[39m'\u001b[39m\u001b[39m being most popular\u001b[39m\u001b[39m'\u001b[39m)\n",
      "\u001b[1;31mNameError\u001b[0m: name 'num_app_cat' is not defined"
     ]
    }
   ],
   "source": [
    "#number of cats\n",
    "num_cat= len(apps['Category'].unique())\n",
    "\n",
    "mpop_cat = apps['Category'].value_counts().index.tolist()[0].lower()\n",
    "\n",
    "sorted_num_app_cat = num_app_cat.sort_values(ascending = False)\n",
    "\n",
    "apps['Category'].value_counts().plot(kind = 'bar', figsize=(20,5))\n",
    "plt.title('There are '+ str(num_cat) + ' unique categories' + ' with ' + str(mpop_cat) + ' being most popular')\n",
    "plt.show()"
   ]
  },
  {
   "cell_type": "code",
   "execution_count": 27,
   "metadata": {},
   "outputs": [
    {
     "ename": "ValueError",
     "evalue": "Mime type rendering requires nbformat>=4.2.0 but it is not installed",
     "output_type": "error",
     "traceback": [
      "\u001b[1;31m---------------------------------------------------------------------------\u001b[0m",
      "\u001b[1;31mValueError\u001b[0m                                Traceback (most recent call last)",
      "\u001b[1;32mc:\\Users\\maxim\\Documents\\GitHub\\PlayStore-Apps\\notebook.ipynb Cell 23'\u001b[0m in \u001b[0;36m<cell line: 11>\u001b[1;34m()\u001b[0m\n\u001b[0;32m      <a href='vscode-notebook-cell:/c%3A/Users/maxim/Documents/GitHub/PlayStore-Apps/notebook.ipynb#ch0000028?line=6'>7</a>\u001b[0m sorted_num_apps_in_category \u001b[39m=\u001b[39m num_apps_in_category\u001b[39m.\u001b[39msort_values(ascending\u001b[39m=\u001b[39m\u001b[39mFalse\u001b[39;00m)\n\u001b[0;32m      <a href='vscode-notebook-cell:/c%3A/Users/maxim/Documents/GitHub/PlayStore-Apps/notebook.ipynb#ch0000028?line=8'>9</a>\u001b[0m data \u001b[39m=\u001b[39m [go\u001b[39m.\u001b[39mBar(x \u001b[39m=\u001b[39m num_apps_in_category\u001b[39m.\u001b[39mindex, y \u001b[39m=\u001b[39m num_apps_in_category\u001b[39m.\u001b[39mvalues)]\n\u001b[1;32m---> <a href='vscode-notebook-cell:/c%3A/Users/maxim/Documents/GitHub/PlayStore-Apps/notebook.ipynb#ch0000028?line=10'>11</a>\u001b[0m plotly\u001b[39m.\u001b[39;49moffline\u001b[39m.\u001b[39;49miplot(data)\n",
      "File \u001b[1;32mc:\\Users\\maxim\\Documents\\GitHub\\PlayStore-Apps\\googleplay\\lib\\site-packages\\plotly\\offline\\offline.py:392\u001b[0m, in \u001b[0;36miplot\u001b[1;34m(figure_or_data, show_link, link_text, validate, image, filename, image_width, image_height, config, auto_play, animation_opts)\u001b[0m\n\u001b[0;32m    387\u001b[0m post_script \u001b[39m=\u001b[39m build_save_image_post_script(\n\u001b[0;32m    388\u001b[0m     image, filename, image_height, image_width, \u001b[39m\"\u001b[39m\u001b[39miplot\u001b[39m\u001b[39m\"\u001b[39m\n\u001b[0;32m    389\u001b[0m )\n\u001b[0;32m    391\u001b[0m \u001b[39m# Show figure\u001b[39;00m\n\u001b[1;32m--> 392\u001b[0m pio\u001b[39m.\u001b[39;49mshow(\n\u001b[0;32m    393\u001b[0m     figure,\n\u001b[0;32m    394\u001b[0m     validate\u001b[39m=\u001b[39;49mvalidate,\n\u001b[0;32m    395\u001b[0m     config\u001b[39m=\u001b[39;49mconfig,\n\u001b[0;32m    396\u001b[0m     auto_play\u001b[39m=\u001b[39;49mauto_play,\n\u001b[0;32m    397\u001b[0m     post_script\u001b[39m=\u001b[39;49mpost_script,\n\u001b[0;32m    398\u001b[0m     animation_opts\u001b[39m=\u001b[39;49manimation_opts,\n\u001b[0;32m    399\u001b[0m )\n",
      "File \u001b[1;32mc:\\Users\\maxim\\Documents\\GitHub\\PlayStore-Apps\\googleplay\\lib\\site-packages\\plotly\\io\\_renderers.py:396\u001b[0m, in \u001b[0;36mshow\u001b[1;34m(fig, renderer, validate, **kwargs)\u001b[0m\n\u001b[0;32m    391\u001b[0m         \u001b[39mraise\u001b[39;00m \u001b[39mValueError\u001b[39;00m(\n\u001b[0;32m    392\u001b[0m             \u001b[39m\"\u001b[39m\u001b[39mMime type rendering requires ipython but it is not installed\u001b[39m\u001b[39m\"\u001b[39m\n\u001b[0;32m    393\u001b[0m         )\n\u001b[0;32m    395\u001b[0m     \u001b[39mif\u001b[39;00m \u001b[39mnot\u001b[39;00m nbformat \u001b[39mor\u001b[39;00m LooseVersion(nbformat\u001b[39m.\u001b[39m__version__) \u001b[39m<\u001b[39m LooseVersion(\u001b[39m\"\u001b[39m\u001b[39m4.2.0\u001b[39m\u001b[39m\"\u001b[39m):\n\u001b[1;32m--> 396\u001b[0m         \u001b[39mraise\u001b[39;00m \u001b[39mValueError\u001b[39;00m(\n\u001b[0;32m    397\u001b[0m             \u001b[39m\"\u001b[39m\u001b[39mMime type rendering requires nbformat>=4.2.0 but it is not installed\u001b[39m\u001b[39m\"\u001b[39m\n\u001b[0;32m    398\u001b[0m         )\n\u001b[0;32m    400\u001b[0m     ipython_display\u001b[39m.\u001b[39mdisplay(bundle, raw\u001b[39m=\u001b[39m\u001b[39mTrue\u001b[39;00m)\n\u001b[0;32m    402\u001b[0m \u001b[39m# external renderers\u001b[39;00m\n",
      "\u001b[1;31mValueError\u001b[0m: Mime type rendering requires nbformat>=4.2.0 but it is not installed"
     ]
    }
   ],
   "source": [
    "from plotly.offline import download_plotlyjs, init_notebook_mode, plot, iplot\n",
    "\n",
    "num_categories = len(apps['Category'].unique())\n",
    "\n",
    "num_apps_in_category = apps['Category'].value_counts()\n",
    "\n",
    "sorted_num_apps_in_category = num_apps_in_category.sort_values(ascending=False)\n",
    "\n",
    "data = [go.Bar(x = num_apps_in_category.index, y = num_apps_in_category.values)]\n",
    "\n",
    "plotly.offline.iplot(data)"
   ]
  },
  {
   "cell_type": "markdown",
   "metadata": {},
   "source": [
    "#### 4. Distribution of ratings"
   ]
  },
  {
   "cell_type": "code",
   "execution_count": null,
   "metadata": {},
   "outputs": [],
   "source": []
  },
  {
   "cell_type": "markdown",
   "metadata": {},
   "source": [
    "#### 5. Price and size of an app"
   ]
  },
  {
   "cell_type": "code",
   "execution_count": null,
   "metadata": {},
   "outputs": [],
   "source": []
  },
  {
   "cell_type": "markdown",
   "metadata": {},
   "source": [
    "#### 6. App category and its price"
   ]
  },
  {
   "cell_type": "code",
   "execution_count": null,
   "metadata": {},
   "outputs": [],
   "source": []
  }
 ],
 "metadata": {
  "kernelspec": {
   "display_name": "Python 3.10.5 ('googleplay': venv)",
   "language": "python",
   "name": "python3"
  },
  "language_info": {
   "codemirror_mode": {
    "name": "ipython",
    "version": 3
   },
   "file_extension": ".py",
   "mimetype": "text/x-python",
   "name": "python",
   "nbconvert_exporter": "python",
   "pygments_lexer": "ipython3",
   "version": "3.10.5"
  },
  "orig_nbformat": 4,
  "vscode": {
   "interpreter": {
    "hash": "429bef6601cd5cd60a5d8f447d027262418d47192fe3ee127eea364f18676a89"
   }
  }
 },
 "nbformat": 4,
 "nbformat_minor": 2
}
